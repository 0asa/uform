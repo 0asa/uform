{
 "cells": [
  {
   "cell_type": "markdown",
   "metadata": {},
   "source": [
    "# Scripts for Exporting PyTorch Models to ONNX and CoreML\n",
    "\n",
    "Depending on the backend, we prefer different qunatization schemes.\n",
    "\n",
    "- For ONNX we use `uint8` quantization.\n",
    "- For PyTorch we use `bfloat16` quantization.\n",
    "- For CoreML we use `float32` representation."
   ]
  },
  {
   "cell_type": "code",
   "execution_count": null,
   "metadata": {},
   "outputs": [],
   "source": [
    "!pip install --upgrade \"uform[torch]\" coremltools"
   ]
  },
  {
   "cell_type": "code",
   "execution_count": null,
   "metadata": {},
   "outputs": [],
   "source": [
    "import os\n",
    "model_name = \"unum-cloud/uform-gen2-dpo\"\n",
    "output_directory = \"../../\""
   ]
  },
  {
   "cell_type": "code",
   "execution_count": null,
   "metadata": {},
   "outputs": [],
   "source": [
    "import torch\n",
    "import uform\n",
    "from PIL import Image\n",
    "from transformers import AutoModel, AutoProcessor\n",
    "\n",
    "model = AutoModel.from_pretrained(model_name, trust_remote_code=True)\n",
    "processor = AutoProcessor.from_pretrained(model_name, trust_remote_code=True)\n",
    "\n",
    "prompt = 'Describe the picture'\n",
    "image = Image.open('../../assets/unum.png')\n",
    "inputs = processor(text=[prompt], images=[image], return_tensors='pt')\n",
    "\n",
    "with torch.inference_mode():\n",
    "     output = model.generate(\n",
    "        **inputs,\n",
    "        do_sample=False,\n",
    "        use_cache=True,\n",
    "        max_new_tokens=256,\n",
    "        eos_token_id=151645,\n",
    "        pad_token_id=processor.tokenizer.pad_token_id\n",
    "    )\n",
    "prompt_len = inputs['input_ids'].shape[1]\n",
    "decoded_text = processor.batch_decode(output[:, prompt_len:])[0]\n",
    "\n",
    "print(decoded_text)"
   ]
  }
 ],
 "metadata": {
  "kernelspec": {
   "display_name": "base",
   "language": "python",
   "name": "python3"
  },
  "language_info": {
   "codemirror_mode": {
    "name": "ipython",
    "version": 3
   },
   "file_extension": ".py",
   "mimetype": "text/x-python",
   "name": "python",
   "nbconvert_exporter": "python",
   "pygments_lexer": "ipython3",
   "version": "3.11.5"
  }
 },
 "nbformat": 4,
 "nbformat_minor": 2
}
